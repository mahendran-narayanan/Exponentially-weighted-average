{
 "cells": [
  {
   "cell_type": "markdown",
   "metadata": {},
   "source": [
    "## Exponentially Weighted Average\n",
    "This notebook helps in knowing the exponentially weighted moving average.\n",
    "This is implemented with the help of the course in Coursera Deep Learning Specialization.\n",
    "\n",
    "Dataset used is Temperature in india from 1970 to 2017.\n",
    "\n",
    "Course Link : https://www.coursera.org/lecture/deep-neural-network/exponentially-weighted-averages-duStO\n",
    "\n",
    "Dataset: https://data.gov.in/resources/monthly-seasonal-and-annual-mean-temp-series-1901-2017\n",
    "\n",
    "Download the dataset using the above link and store it as \"dataset.csv\""
   ]
  },
  {
   "cell_type": "code",
   "execution_count": 1,
   "metadata": {},
   "outputs": [
    {
     "data": {
      "text/html": [
       "<div>\n",
       "<style scoped>\n",
       "    .dataframe tbody tr th:only-of-type {\n",
       "        vertical-align: middle;\n",
       "    }\n",
       "\n",
       "    .dataframe tbody tr th {\n",
       "        vertical-align: top;\n",
       "    }\n",
       "\n",
       "    .dataframe thead th {\n",
       "        text-align: right;\n",
       "    }\n",
       "</style>\n",
       "<table border=\"1\" class=\"dataframe\">\n",
       "  <thead>\n",
       "    <tr style=\"text-align: right;\">\n",
       "      <th></th>\n",
       "      <th>YEAR</th>\n",
       "      <th>JAN</th>\n",
       "      <th>FEB</th>\n",
       "      <th>MAR</th>\n",
       "      <th>APR</th>\n",
       "      <th>MAY</th>\n",
       "      <th>JUN</th>\n",
       "      <th>JUL</th>\n",
       "      <th>AUG</th>\n",
       "      <th>SEP</th>\n",
       "      <th>OCT</th>\n",
       "      <th>NOV</th>\n",
       "      <th>DEC</th>\n",
       "      <th>ANNUAL</th>\n",
       "      <th>JAN-FEB</th>\n",
       "      <th>MAR-MAY</th>\n",
       "      <th>JUN-SEP</th>\n",
       "      <th>OCT-DEC</th>\n",
       "    </tr>\n",
       "  </thead>\n",
       "  <tbody>\n",
       "    <tr>\n",
       "      <td>0</td>\n",
       "      <td>1901</td>\n",
       "      <td>17.99</td>\n",
       "      <td>19.43</td>\n",
       "      <td>23.49</td>\n",
       "      <td>26.41</td>\n",
       "      <td>28.28</td>\n",
       "      <td>28.60</td>\n",
       "      <td>27.49</td>\n",
       "      <td>26.98</td>\n",
       "      <td>26.26</td>\n",
       "      <td>25.08</td>\n",
       "      <td>21.73</td>\n",
       "      <td>18.95</td>\n",
       "      <td>24.23</td>\n",
       "      <td>18.71</td>\n",
       "      <td>26.06</td>\n",
       "      <td>27.30</td>\n",
       "      <td>21.92</td>\n",
       "    </tr>\n",
       "    <tr>\n",
       "      <td>1</td>\n",
       "      <td>1902</td>\n",
       "      <td>19.00</td>\n",
       "      <td>20.39</td>\n",
       "      <td>24.10</td>\n",
       "      <td>26.54</td>\n",
       "      <td>28.68</td>\n",
       "      <td>28.44</td>\n",
       "      <td>27.29</td>\n",
       "      <td>27.05</td>\n",
       "      <td>25.95</td>\n",
       "      <td>24.37</td>\n",
       "      <td>21.33</td>\n",
       "      <td>18.78</td>\n",
       "      <td>24.33</td>\n",
       "      <td>19.70</td>\n",
       "      <td>26.44</td>\n",
       "      <td>27.18</td>\n",
       "      <td>21.49</td>\n",
       "    </tr>\n",
       "    <tr>\n",
       "      <td>2</td>\n",
       "      <td>1903</td>\n",
       "      <td>18.32</td>\n",
       "      <td>19.79</td>\n",
       "      <td>22.46</td>\n",
       "      <td>26.03</td>\n",
       "      <td>27.93</td>\n",
       "      <td>28.41</td>\n",
       "      <td>28.04</td>\n",
       "      <td>26.63</td>\n",
       "      <td>26.34</td>\n",
       "      <td>24.57</td>\n",
       "      <td>20.96</td>\n",
       "      <td>18.29</td>\n",
       "      <td>23.80</td>\n",
       "      <td>19.05</td>\n",
       "      <td>25.47</td>\n",
       "      <td>27.17</td>\n",
       "      <td>21.27</td>\n",
       "    </tr>\n",
       "    <tr>\n",
       "      <td>3</td>\n",
       "      <td>1904</td>\n",
       "      <td>17.77</td>\n",
       "      <td>19.39</td>\n",
       "      <td>22.95</td>\n",
       "      <td>26.73</td>\n",
       "      <td>27.83</td>\n",
       "      <td>27.85</td>\n",
       "      <td>26.84</td>\n",
       "      <td>26.73</td>\n",
       "      <td>25.84</td>\n",
       "      <td>24.36</td>\n",
       "      <td>21.07</td>\n",
       "      <td>18.84</td>\n",
       "      <td>23.86</td>\n",
       "      <td>18.66</td>\n",
       "      <td>25.84</td>\n",
       "      <td>26.83</td>\n",
       "      <td>21.42</td>\n",
       "    </tr>\n",
       "    <tr>\n",
       "      <td>4</td>\n",
       "      <td>1905</td>\n",
       "      <td>17.40</td>\n",
       "      <td>17.79</td>\n",
       "      <td>21.78</td>\n",
       "      <td>24.84</td>\n",
       "      <td>28.32</td>\n",
       "      <td>28.69</td>\n",
       "      <td>27.67</td>\n",
       "      <td>27.47</td>\n",
       "      <td>26.29</td>\n",
       "      <td>26.16</td>\n",
       "      <td>22.07</td>\n",
       "      <td>18.71</td>\n",
       "      <td>23.71</td>\n",
       "      <td>17.58</td>\n",
       "      <td>24.99</td>\n",
       "      <td>27.37</td>\n",
       "      <td>21.48</td>\n",
       "    </tr>\n",
       "    <tr>\n",
       "      <td>...</td>\n",
       "      <td>...</td>\n",
       "      <td>...</td>\n",
       "      <td>...</td>\n",
       "      <td>...</td>\n",
       "      <td>...</td>\n",
       "      <td>...</td>\n",
       "      <td>...</td>\n",
       "      <td>...</td>\n",
       "      <td>...</td>\n",
       "      <td>...</td>\n",
       "      <td>...</td>\n",
       "      <td>...</td>\n",
       "      <td>...</td>\n",
       "      <td>...</td>\n",
       "      <td>...</td>\n",
       "      <td>...</td>\n",
       "      <td>...</td>\n",
       "      <td>...</td>\n",
       "    </tr>\n",
       "    <tr>\n",
       "      <td>112</td>\n",
       "      <td>2013</td>\n",
       "      <td>18.88</td>\n",
       "      <td>21.07</td>\n",
       "      <td>24.53</td>\n",
       "      <td>26.97</td>\n",
       "      <td>29.06</td>\n",
       "      <td>28.24</td>\n",
       "      <td>27.50</td>\n",
       "      <td>27.22</td>\n",
       "      <td>26.87</td>\n",
       "      <td>25.63</td>\n",
       "      <td>22.18</td>\n",
       "      <td>19.69</td>\n",
       "      <td>24.82</td>\n",
       "      <td>19.98</td>\n",
       "      <td>26.85</td>\n",
       "      <td>27.46</td>\n",
       "      <td>22.50</td>\n",
       "    </tr>\n",
       "    <tr>\n",
       "      <td>113</td>\n",
       "      <td>2014</td>\n",
       "      <td>18.81</td>\n",
       "      <td>20.35</td>\n",
       "      <td>23.34</td>\n",
       "      <td>26.91</td>\n",
       "      <td>28.45</td>\n",
       "      <td>29.42</td>\n",
       "      <td>28.07</td>\n",
       "      <td>27.42</td>\n",
       "      <td>26.61</td>\n",
       "      <td>25.38</td>\n",
       "      <td>22.53</td>\n",
       "      <td>19.50</td>\n",
       "      <td>24.73</td>\n",
       "      <td>19.58</td>\n",
       "      <td>26.24</td>\n",
       "      <td>27.88</td>\n",
       "      <td>22.47</td>\n",
       "    </tr>\n",
       "    <tr>\n",
       "      <td>114</td>\n",
       "      <td>2015</td>\n",
       "      <td>19.02</td>\n",
       "      <td>21.23</td>\n",
       "      <td>23.52</td>\n",
       "      <td>26.52</td>\n",
       "      <td>28.82</td>\n",
       "      <td>28.15</td>\n",
       "      <td>28.03</td>\n",
       "      <td>27.64</td>\n",
       "      <td>27.04</td>\n",
       "      <td>25.82</td>\n",
       "      <td>22.95</td>\n",
       "      <td>20.21</td>\n",
       "      <td>24.91</td>\n",
       "      <td>20.12</td>\n",
       "      <td>26.29</td>\n",
       "      <td>27.73</td>\n",
       "      <td>22.99</td>\n",
       "    </tr>\n",
       "    <tr>\n",
       "      <td>115</td>\n",
       "      <td>2016</td>\n",
       "      <td>20.92</td>\n",
       "      <td>23.58</td>\n",
       "      <td>26.61</td>\n",
       "      <td>29.56</td>\n",
       "      <td>30.41</td>\n",
       "      <td>29.70</td>\n",
       "      <td>28.18</td>\n",
       "      <td>28.17</td>\n",
       "      <td>27.72</td>\n",
       "      <td>26.81</td>\n",
       "      <td>23.90</td>\n",
       "      <td>21.89</td>\n",
       "      <td>26.45</td>\n",
       "      <td>22.25</td>\n",
       "      <td>28.86</td>\n",
       "      <td>28.44</td>\n",
       "      <td>24.20</td>\n",
       "    </tr>\n",
       "    <tr>\n",
       "      <td>116</td>\n",
       "      <td>2017</td>\n",
       "      <td>20.59</td>\n",
       "      <td>23.08</td>\n",
       "      <td>25.58</td>\n",
       "      <td>29.17</td>\n",
       "      <td>30.47</td>\n",
       "      <td>29.44</td>\n",
       "      <td>28.31</td>\n",
       "      <td>28.12</td>\n",
       "      <td>28.11</td>\n",
       "      <td>27.24</td>\n",
       "      <td>23.92</td>\n",
       "      <td>21.47</td>\n",
       "      <td>26.29</td>\n",
       "      <td>21.84</td>\n",
       "      <td>28.41</td>\n",
       "      <td>28.50</td>\n",
       "      <td>24.21</td>\n",
       "    </tr>\n",
       "  </tbody>\n",
       "</table>\n",
       "<p>117 rows × 18 columns</p>\n",
       "</div>"
      ],
      "text/plain": [
       "     YEAR    JAN    FEB    MAR    APR    MAY    JUN    JUL    AUG    SEP  \\\n",
       "0    1901  17.99  19.43  23.49  26.41  28.28  28.60  27.49  26.98  26.26   \n",
       "1    1902  19.00  20.39  24.10  26.54  28.68  28.44  27.29  27.05  25.95   \n",
       "2    1903  18.32  19.79  22.46  26.03  27.93  28.41  28.04  26.63  26.34   \n",
       "3    1904  17.77  19.39  22.95  26.73  27.83  27.85  26.84  26.73  25.84   \n",
       "4    1905  17.40  17.79  21.78  24.84  28.32  28.69  27.67  27.47  26.29   \n",
       "..    ...    ...    ...    ...    ...    ...    ...    ...    ...    ...   \n",
       "112  2013  18.88  21.07  24.53  26.97  29.06  28.24  27.50  27.22  26.87   \n",
       "113  2014  18.81  20.35  23.34  26.91  28.45  29.42  28.07  27.42  26.61   \n",
       "114  2015  19.02  21.23  23.52  26.52  28.82  28.15  28.03  27.64  27.04   \n",
       "115  2016  20.92  23.58  26.61  29.56  30.41  29.70  28.18  28.17  27.72   \n",
       "116  2017  20.59  23.08  25.58  29.17  30.47  29.44  28.31  28.12  28.11   \n",
       "\n",
       "       OCT    NOV    DEC  ANNUAL  JAN-FEB  MAR-MAY  JUN-SEP  OCT-DEC  \n",
       "0    25.08  21.73  18.95   24.23    18.71    26.06    27.30    21.92  \n",
       "1    24.37  21.33  18.78   24.33    19.70    26.44    27.18    21.49  \n",
       "2    24.57  20.96  18.29   23.80    19.05    25.47    27.17    21.27  \n",
       "3    24.36  21.07  18.84   23.86    18.66    25.84    26.83    21.42  \n",
       "4    26.16  22.07  18.71   23.71    17.58    24.99    27.37    21.48  \n",
       "..     ...    ...    ...     ...      ...      ...      ...      ...  \n",
       "112  25.63  22.18  19.69   24.82    19.98    26.85    27.46    22.50  \n",
       "113  25.38  22.53  19.50   24.73    19.58    26.24    27.88    22.47  \n",
       "114  25.82  22.95  20.21   24.91    20.12    26.29    27.73    22.99  \n",
       "115  26.81  23.90  21.89   26.45    22.25    28.86    28.44    24.20  \n",
       "116  27.24  23.92  21.47   26.29    21.84    28.41    28.50    24.21  \n",
       "\n",
       "[117 rows x 18 columns]"
      ]
     },
     "execution_count": 1,
     "metadata": {},
     "output_type": "execute_result"
    }
   ],
   "source": [
    "import pandas as pd\n",
    "import numpy as np\n",
    "\n",
    "csvfile = 'dataset.csv'\n",
    "file = pd.read_csv(csvfile)\n",
    "file"
   ]
  },
  {
   "cell_type": "code",
   "execution_count": 2,
   "metadata": {},
   "outputs": [],
   "source": [
    "x=[]\n",
    "for i,r in file.iterrows():\n",
    "    x.append(r[13])\n",
    "\n",
    "mean = np.sum(x)/len(x)\n",
    "x/=mean"
   ]
  },
  {
   "cell_type": "code",
   "execution_count": 3,
   "metadata": {},
   "outputs": [
    {
     "data": {
      "text/plain": [
       "117"
      ]
     },
     "execution_count": 3,
     "metadata": {},
     "output_type": "execute_result"
    }
   ],
   "source": [
    "y=[]\n",
    "for i in range (1901,2018):\n",
    "    y.append(i)\n",
    "len(y)"
   ]
  },
  {
   "cell_type": "code",
   "execution_count": 5,
   "metadata": {},
   "outputs": [
    {
     "data": {
      "text/plain": [
       "[<matplotlib.lines.Line2D at 0x7fcaaa61ce80>]"
      ]
     },
     "execution_count": 5,
     "metadata": {},
     "output_type": "execute_result"
    },
    {
     "data": {
      "image/png": "[encoded data removed]",
      "text/plain": [
       "<Figure size 432x288 with 1 Axes>"
      ]
     },
     "metadata": {
      "needs_background": "light"
     },
     "output_type": "display_data"
    }
   ],
   "source": [
    "import matplotlib.pyplot as plt\n",
    "plt.plot(y,x,\".\")"
   ]
  },
  {
   "cell_type": "code",
   "execution_count": 6,
   "metadata": {},
   "outputs": [
    {
     "data": {
      "text/plain": [
       "(117,)"
      ]
     },
     "execution_count": 6,
     "metadata": {},
     "output_type": "execute_result"
    }
   ],
   "source": [
    "x.shape"
   ]
  },
  {
   "cell_type": "code",
   "execution_count": 7,
   "metadata": {},
   "outputs": [],
   "source": [
    "v=[]\n",
    "v.append(0)\n",
    "beta = 0.9\n",
    "for i in range(0,116):\n",
    "    v.append(beta*v[i] + (1-beta)*x[i])"
   ]
  },
  {
   "cell_type": "code",
   "execution_count": 8,
   "metadata": {},
   "outputs": [
    {
     "data": {
      "text/plain": [
       "(0.94, 1.2)"
      ]
     },
     "execution_count": 8,
     "metadata": {},
     "output_type": "execute_result"
    },
    {
     "data": {
      "image/png": "[encoded data removed]",
      "text/plain": [
       "<Figure size 432x288 with 1 Axes>"
      ]
     },
     "metadata": {
      "needs_background": "light"
     },
     "output_type": "display_data"
    }
   ],
   "source": [
    "plt.plot(y,x,\".\")\n",
    "plt.plot(y,v)\n",
    "plt.ylim(0.94,1.2)"
   ]
  },
  {
   "cell_type": "code",
   "execution_count": null,
   "metadata": {},
   "outputs": [],
   "source": []
  }
 ],
 "metadata": {
  "kernelspec": {
   "display_name": "Python 3",
   "language": "python",
   "name": "python3"
  },
  "language_info": {
   "codemirror_mode": {
    "name": "ipython",
    "version": 3
   },
   "file_extension": ".py",
   "mimetype": "text/x-python",
   "name": "python",
   "nbconvert_exporter": "python",
   "pygments_lexer": "ipython3",
   "version": "3.6.8"
  }
 },
 "nbformat": 4,
 "nbformat_minor": 2
}
